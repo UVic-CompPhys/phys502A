{
 "cells": [
  {
   "cell_type": "markdown",
   "metadata": {},
   "source": [
    "# This notebook demonstrates how to do symbolic and numeric Lorentz transformations of 4-tensors"
   ]
  },
  {
   "cell_type": "code",
   "execution_count": 1,
   "metadata": {},
   "outputs": [
    {
     "name": "stdout",
     "output_type": "stream",
     "text": [
      "Populating the interactive namespace from numpy and matplotlib\n"
     ]
    }
   ],
   "source": [
    "# setting up the stage\n",
    "\n",
    "%pylab nbagg\n",
    "\n",
    "from sympy.tensor.tensor import TensorIndexType, tensor_indices, tensorhead, TensorManager\n",
    "from sympy import symbols, sqrt, simplify, init_printing, Order, oo, series\n",
    "from sympy.matrices import eye\n",
    "\n",
    "import numpy as np\n",
    "import scipy.constants as sc\n",
    "from scipy.integrate import dblquad, nquad, simps\n",
    "from scipy import interpolate\n",
    "from mpl_toolkits.mplot3d import axes3d\n",
    "\n",
    "# the following commands allow to produce a nice pdf version of the notebook with figures:\n",
    "from matplotlib.pyplot import *\n",
    "%matplotlib inline\n",
    " \n",
    "from IPython.display import set_matplotlib_formats\n",
    "set_matplotlib_formats('png', 'pdf')\n",
    "\n",
    "fsize=20\n",
    "plt.rcParams['font.size'] = 14\n",
    "plt.rcParams['font.family'] = 'serif'\n",
    "\n",
    "# begin counting figures\n",
    "ifig=0\n",
    "for i in range(0,10000):\n",
    "    plt.close(i)\n",
    "\n",
    "def select_fig(ifig,close_fig=True):\n",
    "    if close_fig:\n",
    "        plt.close(ifig)\n",
    "    plt.figure(ifig)\n",
    "\n",
    "init_printing(pretty_print=True)"
   ]
  },
  {
   "cell_type": "code",
   "execution_count": 2,
   "metadata": {},
   "outputs": [
    {
     "data": {
      "text/plain": [
       "array([[1, 0, 0, 0],\n",
       "       [0, -1, 0, 0],\n",
       "       [0, 0, -1, 0],\n",
       "       [0, 0, 0, -1]], dtype=object)"
      ]
     },
     "execution_count": 2,
     "metadata": {},
     "output_type": "execute_result"
    }
   ],
   "source": [
    "# defining a Lorentz-type tensor\n",
    "TensorManager.clear()\n",
    "Lorentz = TensorIndexType('Lorentz', dummy_fmt='L')\n",
    "Lorentz.data = [1, -1, -1, -1]\n",
    "TensorIndexType(Lorentz, 0)\n",
    "Lorentz.data"
   ]
  },
  {
   "cell_type": "code",
   "execution_count": 3,
   "metadata": {
    "collapsed": true
   },
   "outputs": [],
   "source": [
    "# defining tensor indices; do not use them as loop variables!!!\n",
    "i, j, k, l = tensor_indices('i:4', Lorentz)  "
   ]
  },
  {
   "cell_type": "code",
   "execution_count": 4,
   "metadata": {
    "collapsed": true
   },
   "outputs": [],
   "source": [
    "c = symbols('c', positive=True)  # the speed of light in vacuum\n",
    "\n",
    "g, vx, vy, vz, v, bx, by, bz, b = symbols('gamma v_x v_y v_z v beta_x beta_y beta_z beta')\n",
    "\n",
    "v = sqrt(vx**2+vy**2+vz**2)  # boost velocity\n",
    "g = 1/sqrt(1-(vx**2+vy**2+vz**2)/c**2)  # Lorentz gamma factor\n",
    "bx = vx/c; by = vy/c; bz = vz/c  # Cartesian projections of Lorentz beta"
   ]
  },
  {
   "cell_type": "code",
   "execution_count": 5,
   "metadata": {
    "collapsed": true
   },
   "outputs": [],
   "source": [
    "# Lorentz transformation tensor \n",
    "L = tensorhead('L', [Lorentz, Lorentz], [[1],[1]])\n",
    "\n",
    "L(i,j).data = [[g, g*bx, g*by, g*bz],\\\n",
    "               [g*bx, 1+(g-1)*vx**2/v**2,(g-1)*vx*vy/v**2, (g-1)*vx*vz/v**2],\\\n",
    "               [g*by, (g-1)*vx*vy/v**2, 1+(g-1)*vy**2/v**2, (g-1.)*vy*vz/v**2],\\\n",
    "               [g*bz, (g-1)*vx*vz/v**2, (g-1)*vy*vz/v**2, 1+(g-1)*vz**2/v**2]]"
   ]
  },
  {
   "cell_type": "code",
   "execution_count": 6,
   "metadata": {},
   "outputs": [
    {
     "data": {
      "image/png": "[encoded data removed]",
      "text/latex": [
       "$$\\left[\\begin{matrix}1 & 0 & 0 & 0\\\\0 & 1 & 0 & 0\\\\0 & 0 & 1 & 0\\\\0 & 0 & 0 & 1\\end{matrix}\\right]$$"
      ],
      "text/plain": [
       "⎡1  0  0  0⎤\n",
       "⎢          ⎥\n",
       "⎢0  1  0  0⎥\n",
       "⎢          ⎥\n",
       "⎢0  0  1  0⎥\n",
       "⎢          ⎥\n",
       "⎣0  0  0  1⎦"
      ]
     },
     "execution_count": 6,
     "metadata": {},
     "output_type": "execute_result"
    }
   ],
   "source": [
    "delta = eye(4)  # Kronecker delta as matrix\n",
    "delta"
   ]
  },
  {
   "cell_type": "code",
   "execution_count": 7,
   "metadata": {},
   "outputs": [
    {
     "data": {
      "text/plain": [
       "matrix([[1, 0, 0, 0],\n",
       "        [0, -1, 0, 0],\n",
       "        [0, 0, -1, 0],\n",
       "        [0, 0, 0, -1]], dtype=object)"
      ]
     },
     "execution_count": 7,
     "metadata": {},
     "output_type": "execute_result"
    }
   ],
   "source": [
    "eta = np.asmatrix(Lorentz.data)  # Minkowski metric tensor as matrix; this assignment doesn't always work!\n",
    "\n",
    "#eta = np.matrix([[1,0,0,0],[0,-1,0,0],[0,0,-1,0],[0,0,0,-1]])  # Minkowski metric tensor as matrix\n",
    "eta"
   ]
  },
  {
   "cell_type": "code",
   "execution_count": 8,
   "metadata": {
    "collapsed": true
   },
   "outputs": [],
   "source": [
    "# Python implementation of Levi-Civita tensor in arbitrary dimensions, using array representation\n",
    "# LeviCivitaTensor(d) returns a NumPy array of dimension   d x d x ... x d\n",
    "#                                                         (    d times    ) \n",
    "# Reference: https://en.wikipedia.org/wiki/Levi-Civita_symbol#Generalization_to_n_dimensions\n",
    "# Jayson Paulose <jaysonpaulose@gmail.com>\n",
    "\n",
    "import numpy as np\n",
    "\n",
    "def perm_parity(a,b):\n",
    "    \"\"\"Modified from\n",
    "    http://code.activestate.com/recipes/578236-alternatve-generation-of-the-parity-or-sign-of-a-p/\"\"\"\n",
    "    \n",
    "    a = list(a)\n",
    "    b = list(b)\n",
    "\n",
    "    if sorted(a) != sorted(b): return 0\n",
    "    inversions = 0\n",
    "    while a:\n",
    "        first = a.pop(0)\n",
    "        inversions += b.index(first)\n",
    "        b.remove(first)\n",
    "    return -1 if inversions % 2 else 1\n",
    "\n",
    "def loop_recursive(dim,n,q,s,paritycheck):\n",
    "    if n < dim:\n",
    "        for x in range(dim):\n",
    "            q[n] = x\n",
    "            loop_recursive(dim,n+1,q,s,paritycheck)\n",
    "    else:\n",
    "        s.append(perm_parity(q,paritycheck))\n",
    "        \n",
    "def LeviCivitaTensor(dim):\n",
    "    qinit = np.zeros(dim)\n",
    "    paritycheck = range(dim)\n",
    "    flattened_tensor = []\n",
    "    loop_recursive(dim,0,qinit,flattened_tensor,paritycheck)\n",
    "\n",
    "    return np.reshape(flattened_tensor,[dim]*dim)\n",
    "\n",
    "eps = LeviCivitaTensor(4)  # 4-dim Levi-Civita tensor"
   ]
  },
  {
   "cell_type": "code",
   "execution_count": 9,
   "metadata": {},
   "outputs": [
    {
     "name": "stdout",
     "output_type": "stream",
     "text": [
      "Are LM1 and LM2 equal matrices?\n",
      " This is True !\n",
      "Is the product of LM and LM1 equal to Kronecker delta\n",
      " True\n"
     ]
    }
   ],
   "source": [
    "LM = L(i,j).get_matrix()  # Lorentz transformation matrix\n",
    "LM1 = L(-i,-j).get_matrix()  # inverse Lorentz matrix\n",
    "LM2 = LM.subs({vx:-vx, vy:-vy, vz:-vz})  # this is also inverse Lorentz matrix\n",
    "\n",
    "# check if it's true\n",
    "\n",
    "print (\"Are LM1 and LM2 equal matrices?\\n\", \"This is\", (LM1 == LM2), \"!\")\n",
    "\n",
    "print (\"Is the product of LM and LM1 equal to Kronecker delta\\n\", simplify(LM*LM1) == delta)"
   ]
  },
  {
   "cell_type": "code",
   "execution_count": 10,
   "metadata": {},
   "outputs": [
    {
     "data": {
      "image/png": "[encoded data removed]",
      "text/latex": [
       "$$1.0$$"
      ],
      "text/plain": [
       "1.00000000000000"
      ]
     },
     "execution_count": 10,
     "metadata": {},
     "output_type": "execute_result"
    }
   ],
   "source": [
    "LM.det()  # Lorentz matrix determinant"
   ]
  },
  {
   "cell_type": "code",
   "execution_count": 11,
   "metadata": {},
   "outputs": [
    {
     "name": "stdout",
     "output_type": "stream",
     "text": [
      "[ct x y z]\n",
      "[ct -x -y -z]\n",
      "Matrix([[ct], [x], [y], [z]])\n",
      "Matrix([[ct], [-x], [-y], [-z]])\n"
     ]
    }
   ],
   "source": [
    "# 4-radius vector\n",
    "xt = tensorhead('xt', [Lorentz], [[1]])\n",
    "t, x0, x1, x2, x3, V = symbols('t ct x y z V', positive=True)\n",
    "xt.data = [x0, x1, x2, x3]\n",
    "\n",
    "print (xt(i).data)  # its contravariant components\n",
    "print (xt(-i).data)  # its covariant components\n",
    "\n",
    "x_umu = xt(i).get_matrix()  # umu stands for upper mu\n",
    "print (x_umu)\n",
    "\n",
    "x_lmu = xt(-i).get_matrix()  # lmu stands for lower mu\n",
    "print (x_lmu)"
   ]
  },
  {
   "cell_type": "markdown",
   "metadata": {},
   "source": [
    "Time transformation for parallel ($X=X'$, $\\mathbf{V}=V\\mathbf{e}_x$) motion."
   ]
  },
  {
   "cell_type": "code",
   "execution_count": 12,
   "metadata": {},
   "outputs": [
    {
     "data": {
      "image/png": "[encoded data removed]",
      "text/latex": [
       "$$\\frac{V x}{c \\sqrt{- \\frac{V^{2}}{c^{2}} + 1}} + \\frac{ct}{\\sqrt{- \\frac{V^{2}}{c^{2}} + 1}}$$"
      ],
      "text/plain": [
       "       V⋅x                  ct       \n",
       "────────────────── + ────────────────\n",
       "        __________         __________\n",
       "       ╱    2             ╱    2     \n",
       "      ╱    V             ╱    V      \n",
       "c⋅   ╱   - ── + 1       ╱   - ── + 1 \n",
       "    ╱       2          ╱       2     \n",
       "  ╲╱       c         ╲╱       c      "
      ]
     },
     "execution_count": 12,
     "metadata": {},
     "output_type": "execute_result"
    }
   ],
   "source": [
    "ctp=((LM*x_umu).subs({vx:V, vy:0, vz:0})[0])  # time transformation for parallel motion\n",
    "ctp"
   ]
  },
  {
   "cell_type": "markdown",
   "metadata": {},
   "source": [
    "### Make a plot showing Earth time $t$ as a function of $\\beta$ for a given travel time $\\tau$\n",
    "\n",
    "$$ t = \\frac{\\tau}{\\sqrt{1-\\beta^2}}.$$"
   ]
  },
  {
   "cell_type": "code",
   "execution_count": 13,
   "metadata": {},
   "outputs": [
    {
     "data": {
      "application/pdf": "[encoded data removed]",
      "image/png": "[encoded data removed]",
      "text/plain": [
       "<matplotlib.figure.Figure at 0x10f3ad7b8>"
      ]
     },
     "metadata": {},
     "output_type": "display_data"
    }
   ],
   "source": [
    "travel_time = 10  # light years (ly)\n",
    "earth_time = ctp.subs({x0:travel_time, x1:0})\n",
    "\n",
    "nb = 1000\n",
    "beta_max = 0.999\n",
    "beta = np.linspace(0,beta_max,nb)\n",
    "t_plot = np.linspace(0,0,nb)\n",
    "for n in range(nb):\n",
    "    t_plot[n] = earth_time.subs({V:beta[n]*c})\n",
    "    t_plot[n] = np.log10(t_plot[n])\n",
    "    \n",
    "ifig=ifig+1\n",
    "close(ifig),select_fig(ifig)\n",
    "plot(beta,t_plot,'r')\n",
    "xlabel(\"$\\\\beta$\",fontsize=fsize)\n",
    "ylabel(\"$\\log_{10}\\,t\\ (\\mathrm{ly}$)\",fontsize=fsize)\n",
    "title(\"Earth time for \"+str(travel_time)+\" ly of travel time\",fontsize=14)\n",
    "grid()\n",
    "show()"
   ]
  },
  {
   "cell_type": "markdown",
   "metadata": {},
   "source": [
    "### Check that the interval remains invariant in the Lorentz transformations ($s^2 = s'^2$?)\n",
    "\n",
    "Lorentz transformations of contravariant components of a 4-radius vector:\n",
    "\n",
    "$$ x^{\\mu} = \\Lambda^{\\mu}_{\\ \\nu'}\\,{x'}^{\\nu'}. $$\n",
    "Dot product of original 4-radius vector:\n",
    "\n",
    "$$ s^2 = x^{\\mu} x_{\\mu} = x^{\\mu} \\eta_{\\mu\\nu}\\,x^{\\nu}.$$"
   ]
  },
  {
   "cell_type": "code",
   "execution_count": 14,
   "metadata": {},
   "outputs": [
    {
     "name": "stdout",
     "output_type": "stream",
     "text": [
      "s2 = Matrix([[ct**2 - x**2 - y**2 - z**2]])\n",
      "sp2 = Matrix([[1.0*ct**2 - 1.0*x**2 - 1.0*y**2 - 1.0*z**2]])\n"
     ]
    }
   ],
   "source": [
    "# in expression xp_umu p stands for prime and umu for upper mu\n",
    "\n",
    "xp_umu = LM*x_umu  # Lorentz transformations of contravariant components of 4-radius vector\n",
    "\n",
    "s2 = x_umu.transpose()*(eta*x_umu)  # dot product of original 4-radius vector\n",
    "print (\"s2 =\", s2)\n",
    "\n",
    "sp2 = simplify(xp_umu.transpose()*(eta*xp_umu))  # dot product of transformed 4-radius vector\n",
    "print (\"sp2 =\", sp2)"
   ]
  },
  {
   "cell_type": "code",
   "execution_count": 15,
   "metadata": {},
   "outputs": [
    {
     "data": {
      "image/png": "[encoded data removed]",
      "text/latex": [
       "$$ct^{2} - x^{2} - y^{2} - z^{2}$$"
      ],
      "text/plain": [
       "  2    2    2    2\n",
       "ct  - x  - y  - z "
      ]
     },
     "execution_count": 15,
     "metadata": {},
     "output_type": "execute_result"
    }
   ],
   "source": [
    "(xt(-i)*xt(i)).data  # this is also s**2"
   ]
  },
  {
   "cell_type": "markdown",
   "metadata": {},
   "source": [
    "Let's demonstrate that $\\eta_{\\mu\\nu}\\Lambda^\\nu_{\\ \\alpha'}\\eta^{{\\alpha'}{\\beta'}} = \n",
    "((\\Lambda^{-1})^\\mathrm{T}) = \\Lambda^{-1}$."
   ]
  },
  {
   "cell_type": "code",
   "execution_count": 16,
   "metadata": {},
   "outputs": [
    {
     "name": "stdout",
     "output_type": "stream",
     "text": [
      "True\n",
      "True\n",
      "True\n"
     ]
    }
   ],
   "source": [
    "print (eta*LM*eta == LM1.transpose())\n",
    "print (eta*LM*eta == LM1)\n",
    "print (LM1 == LM1.transpose())"
   ]
  },
  {
   "cell_type": "markdown",
   "metadata": {},
   "source": [
    "### The 4-velocity"
   ]
  },
  {
   "cell_type": "code",
   "execution_count": 17,
   "metadata": {},
   "outputs": [
    {
     "data": {
      "image/png": "[encoded data removed]",
      "text/latex": [
       "$$\\left[\\begin{matrix}\\frac{c}{\\sqrt{1 - \\frac{1}{c^{2}} \\left(v_{x}^{2} + v_{y}^{2} + v_{z}^{2}\\right)}}\\\\\\frac{v_{x}}{\\sqrt{1 - \\frac{1}{c^{2}} \\left(v_{x}^{2} + v_{y}^{2} + v_{z}^{2}\\right)}}\\\\\\frac{v_{y}}{\\sqrt{1 - \\frac{1}{c^{2}} \\left(v_{x}^{2} + v_{y}^{2} + v_{z}^{2}\\right)}}\\\\\\frac{v_{z}}{\\sqrt{1 - \\frac{1}{c^{2}} \\left(v_{x}^{2} + v_{y}^{2} + v_{z}^{2}\\right)}}\\end{matrix}\\right]$$"
      ],
      "text/plain": [
       "⎡              c              ⎤\n",
       "⎢─────────────────────────────⎥\n",
       "⎢      _______________________⎥\n",
       "⎢     ╱       2      2      2 ⎥\n",
       "⎢    ╱      vₓ  + v_y  + v_z  ⎥\n",
       "⎢   ╱   1 - ───────────────── ⎥\n",
       "⎢  ╱                 2        ⎥\n",
       "⎢╲╱                 c         ⎥\n",
       "⎢                             ⎥\n",
       "⎢              vₓ             ⎥\n",
       "⎢─────────────────────────────⎥\n",
       "⎢      _______________________⎥\n",
       "⎢     ╱       2      2      2 ⎥\n",
       "⎢    ╱      vₓ  + v_y  + v_z  ⎥\n",
       "⎢   ╱   1 - ───────────────── ⎥\n",
       "⎢  ╱                 2        ⎥\n",
       "⎢╲╱                 c         ⎥\n",
       "⎢                             ⎥\n",
       "⎢             v_y             ⎥\n",
       "⎢─────────────────────────────⎥\n",
       "⎢      _______________________⎥\n",
       "⎢     ╱       2      2      2 ⎥\n",
       "⎢    ╱      vₓ  + v_y  + v_z  ⎥\n",
       "⎢   ╱   1 - ───────────────── ⎥\n",
       "⎢  ╱                 2        ⎥\n",
       "⎢╲╱                 c         ⎥\n",
       "⎢                             ⎥\n",
       "⎢             v_z             ⎥\n",
       "⎢─────────────────────────────⎥\n",
       "⎢      _______________________⎥\n",
       "⎢     ╱       2      2      2 ⎥\n",
       "⎢    ╱      vₓ  + v_y  + v_z  ⎥\n",
       "⎢   ╱   1 - ───────────────── ⎥\n",
       "⎢  ╱                 2        ⎥\n",
       "⎣╲╱                 c         ⎦"
      ]
     },
     "execution_count": 17,
     "metadata": {},
     "output_type": "execute_result"
    }
   ],
   "source": [
    "# 4-velocity \n",
    "U = tensorhead('U', [Lorentz], [[1]])\n",
    "U.data = [c, vx, vy, vz]\n",
    "\n",
    "U_umu = g*U(i).get_matrix()  # recall that g is gamma factor for (vx,vy,vz)\n",
    "U_umu"
   ]
  },
  {
   "cell_type": "code",
   "execution_count": 18,
   "metadata": {},
   "outputs": [
    {
     "data": {
      "image/png": "[encoded data removed]",
      "text/latex": [
       "$$\\left[\\begin{matrix}c^{2}\\end{matrix}\\right]$$"
      ],
      "text/plain": [
       "⎡ 2⎤\n",
       "⎣c ⎦"
      ]
     },
     "execution_count": 18,
     "metadata": {},
     "output_type": "execute_result"
    }
   ],
   "source": [
    "simplify(U_umu.transpose()*(eta*U_umu))  # dot product of 4-velocity"
   ]
  },
  {
   "cell_type": "markdown",
   "metadata": {},
   "source": [
    "### The energy-momentum 4-vector"
   ]
  },
  {
   "cell_type": "code",
   "execution_count": 19,
   "metadata": {},
   "outputs": [
    {
     "data": {
      "image/png": "[encoded data removed]",
      "text/latex": [
       "$$\\left[\\begin{matrix}\\frac{c m}{\\sqrt{1 - \\frac{1}{c^{2}} \\left(v_{x}^{2} + v_{y}^{2} + v_{z}^{2}\\right)}} & \\frac{m v_{x}}{\\sqrt{1 - \\frac{1}{c^{2}} \\left(v_{x}^{2} + v_{y}^{2} + v_{z}^{2}\\right)}} & \\frac{m v_{y}}{\\sqrt{1 - \\frac{1}{c^{2}} \\left(v_{x}^{2} + v_{y}^{2} + v_{z}^{2}\\right)}} & \\frac{m v_{z}}{\\sqrt{1 - \\frac{1}{c^{2}} \\left(v_{x}^{2} + v_{y}^{2} + v_{z}^{2}\\right)}}\\end{matrix}\\right]$$"
      ],
      "text/plain": [
       "⎡             c⋅m                            m⋅vₓ                          m⋅v\n",
       "⎢─────────────────────────────  ─────────────────────────────  ───────────────\n",
       "⎢      _______________________        _______________________        _________\n",
       "⎢     ╱       2      2      2        ╱       2      2      2        ╱       2 \n",
       "⎢    ╱      vₓ  + v_y  + v_z        ╱      vₓ  + v_y  + v_z        ╱      vₓ  \n",
       "⎢   ╱   1 - ─────────────────      ╱   1 - ─────────────────      ╱   1 - ────\n",
       "⎢  ╱                 2            ╱                 2            ╱            \n",
       "⎣╲╱                 c           ╲╱                 c           ╲╱             \n",
       "\n",
       "_y                          m⋅v_z            ⎤\n",
       "──────────────  ─────────────────────────────⎥\n",
       "______________        _______________________⎥\n",
       "     2      2        ╱       2      2      2 ⎥\n",
       "+ v_y  + v_z        ╱      vₓ  + v_y  + v_z  ⎥\n",
       "─────────────      ╱   1 - ───────────────── ⎥\n",
       "     2            ╱                 2        ⎥\n",
       "    c           ╲╱                 c         ⎦"
      ]
     },
     "execution_count": 19,
     "metadata": {},
     "output_type": "execute_result"
    }
   ],
   "source": [
    "m = symbols('m', positive=True)  # particle's rest mass\n",
    "P_umu = m*U_umu  # 4-momentum (energy-momentum)\n",
    "P_umu.transpose()"
   ]
  },
  {
   "cell_type": "code",
   "execution_count": 20,
   "metadata": {},
   "outputs": [
    {
     "data": {
      "image/png": "[encoded data removed]",
      "text/latex": [
       "$$\\left[\\begin{matrix}c^{2} m^{2}\\end{matrix}\\right]$$"
      ],
      "text/plain": [
       "⎡ 2  2⎤\n",
       "⎣c ⋅m ⎦"
      ]
     },
     "execution_count": 20,
     "metadata": {},
     "output_type": "execute_result"
    }
   ],
   "source": [
    "simplify(P_umu.transpose()*(eta*P_umu))"
   ]
  },
  {
   "cell_type": "code",
   "execution_count": 21,
   "metadata": {},
   "outputs": [
    {
     "data": {
      "image/png": "[encoded data removed]",
      "text/latex": [
       "$$\\left[\\begin{matrix}\\frac{c^{2} m^{2}}{1 - \\frac{1}{c^{2}} \\left(v_{x}^{2} + v_{y}^{2} + v_{z}^{2}\\right)} - \\frac{m^{2} v_{x}^{2}}{1 - \\frac{1}{c^{2}} \\left(v_{x}^{2} + v_{y}^{2} + v_{z}^{2}\\right)} - \\frac{m^{2} v_{y}^{2}}{1 - \\frac{1}{c^{2}} \\left(v_{x}^{2} + v_{y}^{2} + v_{z}^{2}\\right)} - \\frac{m^{2} v_{z}^{2}}{1 - \\frac{1}{c^{2}} \\left(v_{x}^{2} + v_{y}^{2} + v_{z}^{2}\\right)}\\end{matrix}\\right]$$"
      ],
      "text/plain": [
       "⎡         2  2                    2   2                  2    2               \n",
       "⎢        c ⋅m                    m ⋅vₓ                  m ⋅v_y                \n",
       "⎢───────────────────── - ───────────────────── - ───────────────────── - ─────\n",
       "⎢      2      2      2         2      2      2         2      2      2        \n",
       "⎢    vₓ  + v_y  + v_z        vₓ  + v_y  + v_z        vₓ  + v_y  + v_z        v\n",
       "⎢1 - ─────────────────   1 - ─────────────────   1 - ─────────────────   1 - ─\n",
       "⎢             2                       2                       2               \n",
       "⎣            c                       c                       c                \n",
       "\n",
       "   2    2       ⎤\n",
       "  m ⋅v_z        ⎥\n",
       "────────────────⎥\n",
       " 2      2      2⎥\n",
       "ₓ  + v_y  + v_z ⎥\n",
       "────────────────⎥\n",
       "        2       ⎥\n",
       "       c        ⎦"
      ]
     },
     "execution_count": 21,
     "metadata": {},
     "output_type": "execute_result"
    }
   ],
   "source": [
    "P_umu.transpose()*(eta*P_umu)"
   ]
  },
  {
   "cell_type": "code",
   "execution_count": 22,
   "metadata": {},
   "outputs": [
    {
     "data": {
      "image/png": "[encoded data removed]",
      "text/latex": [
       "$$E^{2} - p_{x}^{2} - p_{y}^{2} - p_{z}^{2}$$"
      ],
      "text/plain": [
       " 2     2      2      2\n",
       "E  - pₓ  - p_y  - p_z "
      ]
     },
     "execution_count": 22,
     "metadata": {},
     "output_type": "execute_result"
    }
   ],
   "source": [
    "# Energy-momentum tensor\n",
    "P = tensorhead('P', [Lorentz], [[1]])\n",
    "E, px, py, pz = symbols('E p_x p_y p_z', positive=True)\n",
    "P.data = [E, px, py, pz]\n",
    "P**2"
   ]
  },
  {
   "cell_type": "markdown",
   "metadata": {},
   "source": [
    "The following calculations are relevant to the solution of problem 3 from homework assignment 1."
   ]
  },
  {
   "cell_type": "code",
   "execution_count": 23,
   "metadata": {
    "collapsed": true
   },
   "outputs": [],
   "source": [
    "# Cartesian projections of the boost velocity V\n",
    "Vx, Vy, Vz = symbols('V_x V_y V_z', positive=True)\n",
    "LMV = LM.subs({vx:Vx, vy:Vy, vz:Vz})\n",
    "LMV2 = LMV.subs({(Vx**2+Vy**2+Vz**2):V**2})"
   ]
  },
  {
   "cell_type": "code",
   "execution_count": 24,
   "metadata": {},
   "outputs": [
    {
     "data": {
      "image/png": "[encoded data removed]",
      "text/latex": [
       "$$\\frac{V_{x} v_{x} + V_{y} v_{y} + V_{z} v_{z} + c^{2}}{\\sqrt{- V^{2} + c^{2}} \\sqrt{c^{2} - v_{x}^{2} - v_{y}^{2} - v_{z}^{2}}}$$"
      ],
      "text/plain": [
       "                                   2      \n",
       "      Vₓ⋅vₓ + V_y⋅v_y + V_z⋅v_z + c       \n",
       "──────────────────────────────────────────\n",
       "   ___________    ________________________\n",
       "  ╱    2    2    ╱  2     2      2      2 \n",
       "╲╱  - V  + c  ⋅╲╱  c  - vₓ  - v_y  - v_z  "
      ]
     },
     "execution_count": 24,
     "metadata": {},
     "output_type": "execute_result"
    }
   ],
   "source": [
    "expr0 = simplify((LMV2*U_umu)[0]/c)  # new gamma\n",
    "expr0"
   ]
  },
  {
   "cell_type": "code",
   "execution_count": 25,
   "metadata": {},
   "outputs": [
    {
     "data": {
      "image/png": "[encoded data removed]",
      "text/latex": [
       "$$\\frac{c}{V^{2} \\sqrt{- V^{2} + c^{2}} \\sqrt{c^{2} - v_{x}^{2} - v_{y}^{2} - v_{z}^{2}}} \\left(V^{2} V_{x} c - V_{x} V_{y} v_{y} \\left(- c + \\sqrt{- V^{2} + c^{2}}\\right) - V_{x} V_{z} v_{z} \\left(- c + \\sqrt{- V^{2} + c^{2}}\\right) + v_{x} \\left(V^{2} \\sqrt{- V^{2} + c^{2}} + V_{x}^{2} \\left(c - \\sqrt{- V^{2} + c^{2}}\\right)\\right)\\right)$$"
      ],
      "text/plain": [
       "  ⎛                     ⎛        ___________⎞              ⎛        __________\n",
       "  ⎜ 2                   ⎜       ╱    2    2 ⎟              ⎜       ╱    2    2\n",
       "c⋅⎝V ⋅Vₓ⋅c - Vₓ⋅V_y⋅v_y⋅⎝-c + ╲╱  - V  + c  ⎠ - Vₓ⋅V_z⋅v_z⋅⎝-c + ╲╱  - V  + c \n",
       "──────────────────────────────────────────────────────────────────────────────\n",
       "                                                  ___________    _____________\n",
       "                                             2   ╱    2    2    ╱  2     2    \n",
       "                                            V ⋅╲╱  - V  + c  ⋅╲╱  c  - vₓ  - v\n",
       "\n",
       "_⎞      ⎛      ___________       ⎛       ___________⎞⎞⎞\n",
       " ⎟      ⎜ 2   ╱    2    2      2 ⎜      ╱    2    2 ⎟⎟⎟\n",
       " ⎠ + vₓ⋅⎝V ⋅╲╱  - V  + c   + Vₓ ⋅⎝c - ╲╱  - V  + c  ⎠⎠⎠\n",
       "───────────────────────────────────────────────────────\n",
       "___________                                            \n",
       "  2      2                                             \n",
       "_y  - v_z                                              "
      ]
     },
     "execution_count": 25,
     "metadata": {},
     "output_type": "execute_result"
    }
   ],
   "source": [
    "expr1 = simplify((LMV2*U_umu)[1])  # new velocity x component\n",
    "expr1"
   ]
  },
  {
   "cell_type": "code",
   "execution_count": 26,
   "metadata": {},
   "outputs": [
    {
     "data": {
      "image/png": "[encoded data removed]",
      "text/latex": [
       "$$\\left[\\begin{matrix}0 & \\frac{E_{x}}{c} & \\frac{E_{y}}{c} & \\frac{E_{z}}{c}\\\\- \\frac{E_{x}}{c} & 0 & - B_{z} & B_{y}\\\\- \\frac{E_{y}}{c} & B_{z} & 0 & - B_{x}\\\\- \\frac{E_{z}}{c} & - B_{y} & B_{x} & 0\\end{matrix}\\right]$$"
      ],
      "text/plain": [
       "⎡        Eₓ   E_y   E_z⎤\n",
       "⎢  0     ──   ───   ───⎥\n",
       "⎢        c     c     c ⎥\n",
       "⎢                      ⎥\n",
       "⎢-Eₓ                   ⎥\n",
       "⎢────    0    -B_z  B_y⎥\n",
       "⎢ c                    ⎥\n",
       "⎢                      ⎥\n",
       "⎢-E_y                  ⎥\n",
       "⎢─────  B_z    0    -Bₓ⎥\n",
       "⎢  c                   ⎥\n",
       "⎢                      ⎥\n",
       "⎢-E_z                  ⎥\n",
       "⎢─────  -B_y   Bₓ    0 ⎥\n",
       "⎣  c                   ⎦"
      ]
     },
     "execution_count": 26,
     "metadata": {},
     "output_type": "execute_result"
    }
   ],
   "source": [
    "# Cartesian projections of electric nad magnetic fields\n",
    "Ex, Ey, Ez, Bx, By, Bz = symbols('E_x E_y E_z B_x B_y B_z')\n",
    "\n",
    "# electromagnetic field strength tensor \n",
    "F = tensorhead('F', [Lorentz, Lorentz], [[1],[1]])\n",
    "F(-i, -j).data = [[0, Ex/c, Ey/c, Ez/c],\\\n",
    "                    [-Ex/c, 0, -Bz, By],\\\n",
    "                    [-Ey/c, Bz, 0, -Bx],\\\n",
    "                    [-Ez/c, -By, Bx, 0]]\n",
    "FM1 = F(-i,-j).get_matrix()\n",
    "FM1"
   ]
  },
  {
   "cell_type": "code",
   "execution_count": 27,
   "metadata": {},
   "outputs": [
    {
     "data": {
      "image/png": "[encoded data removed]",
      "text/latex": [
       "$$\\left[\\begin{matrix}0 & - \\frac{E_{x}}{c} & - \\frac{E_{y}}{c} & - \\frac{E_{z}}{c}\\\\\\frac{E_{x}}{c} & 0 & - B_{z} & B_{y}\\\\\\frac{E_{y}}{c} & B_{z} & 0 & - B_{x}\\\\\\frac{E_{z}}{c} & - B_{y} & B_{x} & 0\\end{matrix}\\right]$$"
      ],
      "text/plain": [
       "⎡     -Eₓ   -E_y   -E_z ⎤\n",
       "⎢ 0   ────  ─────  ─────⎥\n",
       "⎢      c      c      c  ⎥\n",
       "⎢                       ⎥\n",
       "⎢Eₓ                     ⎥\n",
       "⎢──    0    -B_z    B_y ⎥\n",
       "⎢c                      ⎥\n",
       "⎢                       ⎥\n",
       "⎢E_y                    ⎥\n",
       "⎢───  B_z     0     -Bₓ ⎥\n",
       "⎢ c                     ⎥\n",
       "⎢                       ⎥\n",
       "⎢E_z                    ⎥\n",
       "⎢───  -B_y   Bₓ      0  ⎥\n",
       "⎣ c                     ⎦"
      ]
     },
     "execution_count": 27,
     "metadata": {},
     "output_type": "execute_result"
    }
   ],
   "source": [
    "FM = F(i,j).get_matrix()\n",
    "FM"
   ]
  },
  {
   "cell_type": "markdown",
   "metadata": {},
   "source": [
    "Calculation of Lorentz invariants $A=F_{\\mu\\nu}F^{\\mu\\nu}=\\frac{2}{c^2}(c^2B^2-E^2)$ and $B=F_{\\mu\\nu}\\widetilde{F}^{\\,\\mu\\nu}=-\\frac{4}{c}(\\mathbf{E}\\mathbf{B})$, \n",
    "where the dual field strength tensor $\\widetilde{F}^{\\,\\mu\\nu}=\\frac{1}{2}\\varepsilon^{\\,\\mu\\nu\\rho\\sigma}F_{\\rho\\sigma}$."
   ]
  },
  {
   "cell_type": "code",
   "execution_count": 28,
   "metadata": {
    "collapsed": true
   },
   "outputs": [],
   "source": [
    "A = F(-i,-j)*F(i,j)  # recall that negative indices mean covariant ones"
   ]
  },
  {
   "cell_type": "code",
   "execution_count": 29,
   "metadata": {},
   "outputs": [
    {
     "data": {
      "image/png": "[encoded data removed]",
      "text/latex": [
       "$$2 B_{x}^{2} + 2 B_{y}^{2} + 2 B_{z}^{2} - \\frac{2 E_{x}^{2}}{c^{2}} - \\frac{2 E_{y}^{2}}{c^{2}} - \\frac{2 E_{z}^{2}}{c^{2}}$$"
      ],
      "text/plain": [
       "                              2        2        2\n",
       "    2        2        2   2⋅Eₓ    2⋅E_y    2⋅E_z \n",
       "2⋅Bₓ  + 2⋅B_y  + 2⋅B_z  - ───── - ────── - ──────\n",
       "                             2       2        2  \n",
       "                            c       c        c   "
      ]
     },
     "execution_count": 29,
     "metadata": {},
     "output_type": "execute_result"
    }
   ],
   "source": [
    "A.data"
   ]
  },
  {
   "cell_type": "code",
   "execution_count": 30,
   "metadata": {},
   "outputs": [
    {
     "data": {
      "image/png": "[encoded data removed]",
      "text/latex": [
       "$$- \\frac{4.0 B_{x}}{c} E_{x} - \\frac{4.0 B_{y}}{c} E_{y} - \\frac{4.0 B_{z}}{c} E_{z}$$"
      ],
      "text/plain": [
       "  4.0⋅Bₓ⋅Eₓ   4.0⋅B_y⋅E_y   4.0⋅B_z⋅E_z\n",
       "- ───────── - ─────────── - ───────────\n",
       "      c            c             c     "
      ]
     },
     "execution_count": 30,
     "metadata": {},
     "output_type": "execute_result"
    }
   ],
   "source": [
    "B = symbols('B')\n",
    "B = 0\n",
    "for i1 in range(4):\n",
    "    for i2 in range(4):\n",
    "        for i3 in range(4):\n",
    "            for i4 in range(4):\n",
    "                B = B+FM1[i1,i2]*(0.5*eps[i1,i2,i3,i4]*FM1[i3,i4])\n",
    "B"
   ]
  },
  {
   "cell_type": "code",
   "execution_count": null,
   "metadata": {
    "collapsed": true
   },
   "outputs": [],
   "source": []
  }
 ],
 "metadata": {
  "anaconda-cloud": {},
  "kernelspec": {
   "display_name": "Python [Root]",
   "language": "python",
   "name": "Python [Root]"
  },
  "language_info": {
   "codemirror_mode": {
    "name": "ipython",
    "version": 3
   },
   "file_extension": ".py",
   "mimetype": "text/x-python",
   "name": "python",
   "nbconvert_exporter": "python",
   "pygments_lexer": "ipython3",
   "version": "3.5.2"
  }
 },
 "nbformat": 4,
 "nbformat_minor": 1
}
